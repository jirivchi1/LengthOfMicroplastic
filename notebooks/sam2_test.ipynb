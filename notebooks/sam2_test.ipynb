{
 "cells": [
  {
   "cell_type": "markdown",
   "metadata": {},
   "source": [
    "SAM2 Segmentation:\n",
    "\n",
    "Used Segment Anything Model 2 (SAM2) to generate a mask of the white area in the image using the mask_generator.generate() function. The results were stored in the sam2_result variable.\n",
    "Mask Inversion:\n",
    "\n",
    "Since the goal was to calculate the length of the black area (the area not covered by the mask), the mask was inverted using inverted_mask = np.logical_not(mask). This effectively swapped the white and black areas in the mask.\n",
    "Applying Closing Morphological Operation\n",
    "\n",
    "To fill holes and smooth the contours of the inverted mask (the black area), a closing operation was performed using OpenCV's cv2.morphologyEx with cv2.MORPH_CLOSE. This is essential to ensure the skeletonization process yields a more accurate representation of the area's length.\n",
    "Skeletonization:\n",
    "\n",
    "The skeleton of the processed inverted mask was computed using skeleton = skeletonize(closed > 0) from the skimage.morphology module. The skeleton represents the essential, thin lines capturing the length of the area of interest.\n",
    "Length Calculation:\n",
    "\n",
    "The number of pixels belonging to the skeleton was counted using np.sum(skeleton). This pixel count was then converted to micrometers using a conversion factor specific to your image (you provided 400 / 300 in your original code).\n",
    "Visualization:\n",
    "\n",
    "The original image and the calculated skeleton with the length in micrometers were displayed side-by-side for easy comparison.\n",
    "Steps Taken:\n",
    "\n",
    "Access Mask from SAM2 Output: The segmentation mask (sam2_result[0]['segmentation']) was extracted from the sam2_result.\n",
    "Invert the Mask: The np.logical_not() function was used to invert the mask, obtaining the black area's representation.\n",
    "Apply Closing Operation: OpenCV function was used for processing the image before skeletonization. This was to remove holes inside the object and smooth contours for better skeletonization.\n",
    "Skeletonize the Mask: skeletonize function from skimage.morphology was employed to obtain the skeleton.\n",
    "Calculate Length: The number of pixels in the skeleton was converted into length in micrometers using a conversion factor.\n",
    "Visualize Results: matplotlib.pyplot was used to display the results, showing both the original image and the calculated skeleton with length information."
   ]
  },
  {
   "cell_type": "code",
   "execution_count": null,
   "metadata": {},
   "outputs": [],
   "source": [
    "import numpy as np\n",
    "from skimage.morphology import skeletonize\n",
    "import matplotlib.pyplot as plt\n",
    "import cv2 # Asegúrate de importar cv2\n",
    "\n",
    "# Accede a la máscara\n",
    "mask = sam2_result[0]['segmentation']\n",
    "\n",
    "# Invierte la máscara\n",
    "inverted_mask = np.logical_not(mask)\n",
    "\n",
    "# Aplica la operación de cierre\n",
    "kernel = np.ones((5,5),np.uint8)\n",
    "closed = cv2.morphologyEx(inverted_mask.astype(np.uint8), cv2.MORPH_CLOSE, kernel)\n",
    "\n",
    "\n",
    "# Esqueletonización\n",
    "skeleton = skeletonize(closed > 0)\n",
    "\n",
    "# Cálculo de la longitud (reutilizando tu código)\n",
    "skeleton_pixels = np.sum(skeleton)\n",
    "pixels_to_microns = 400 / 300  # Factor de conversión\n",
    "length_microns = skeleton_pixels * pixels_to_microns\n",
    "\n",
    "# Mostrar resultados (reutilizando tu código)\n",
    "fig, axes = plt.subplots(nrows=1, ncols=2, figsize=(8, 4), sharex=True, sharey=True)\n",
    "ax = axes.ravel()\n",
    "\n",
    "ax[0].imshow(image_bgr, cmap=plt.cm.gray) # Mostrando la imagen original en escala de grises\n",
    "ax[0].axis('off')\n",
    "ax[0].set_title('original', fontsize=20)\n",
    "\n",
    "ax[1].imshow(skeleton, cmap=plt.cm.gray)\n",
    "ax[1].axis('off')\n",
    "ax[1].set_title(f'Length: {length_microns:.1f} µm', fontsize=20)\n",
    "\n",
    "fig.tight_layout()\n",
    "plt.show()"
   ]
  }
 ],
 "metadata": {
  "kernelspec": {
   "display_name": "Python 3",
   "language": "python",
   "name": "python3"
  },
  "language_info": {
   "name": "python",
   "version": "3.11.9"
  }
 },
 "nbformat": 4,
 "nbformat_minor": 2
}
